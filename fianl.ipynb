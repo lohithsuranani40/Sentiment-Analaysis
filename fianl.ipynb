{
 "cells": [
  {
   "cell_type": "markdown",
   "metadata": {
    "id": "mMnjk2HLf4G1"
   },
   "source": [
    "**Import library**"
   ]
  },
  {
   "cell_type": "code",
   "execution_count": 30,
   "metadata": {
    "colab": {
     "base_uri": "https://localhost:8080/"
    },
    "id": "Vc8Dy0KEMkUQ",
    "outputId": "7d0e3bd1-8696-4bfd-dce8-18194a834173"
   },
   "outputs": [
    {
     "name": "stderr",
     "output_type": "stream",
     "text": [
      "[nltk_data] Downloading package punkt to\n",
      "[nltk_data]     C:\\Users\\lohit\\AppData\\Roaming\\nltk_data...\n",
      "[nltk_data]   Package punkt is already up-to-date!\n",
      "[nltk_data] Downloading package averaged_perceptron_tagger to\n",
      "[nltk_data]     C:\\Users\\lohit\\AppData\\Roaming\\nltk_data...\n",
      "[nltk_data]   Package averaged_perceptron_tagger is already up-to-\n",
      "[nltk_data]       date!\n",
      "[nltk_data] Downloading package maxent_ne_chunker to\n",
      "[nltk_data]     C:\\Users\\lohit\\AppData\\Roaming\\nltk_data...\n",
      "[nltk_data]   Package maxent_ne_chunker is already up-to-date!\n",
      "[nltk_data] Downloading package words to\n",
      "[nltk_data]     C:\\Users\\lohit\\AppData\\Roaming\\nltk_data...\n",
      "[nltk_data]   Package words is already up-to-date!\n",
      "[nltk_data] Downloading package stopwords to\n",
      "[nltk_data]     C:\\Users\\lohit\\AppData\\Roaming\\nltk_data...\n",
      "[nltk_data]   Package stopwords is already up-to-date!\n"
     ]
    }
   ],
   "source": [
    "import numpy as np\n",
    "import pandas as pd\n",
    "import matplotlib.pyplot as plt\n",
    "import seaborn as sns\n",
    "import nltk\n",
    "nltk.download('punkt')\n",
    "nltk.download('averaged_perceptron_tagger')\n",
    "nltk.download('maxent_ne_chunker')\n",
    "nltk.download('words')\n",
    "nltk.download('stopwords')\n",
    "\n",
    "from nltk.corpus import stopwords\n",
    "import string\n",
    "import json\n",
    "from nltk.sentiment.util import *\n",
    "from textblob import TextBlob"
   ]
  },
  {
   "cell_type": "code",
   "execution_count": 7,
   "metadata": {
    "id": "I1N2QXnHWCHg"
   },
   "outputs": [],
   "source": [
    "#Import and Read the data\n",
    "\n",
    "with open('tweets.json') as jfile:\n",
    "    json_file = json.load(jfile)"
   ]
  },
  {
   "cell_type": "markdown",
   "metadata": {
    "id": "NN4Xle7wgvzE"
   },
   "source": [
    "**Convert into Data Frame that easy to readable**"
   ]
  },
  {
   "cell_type": "code",
   "execution_count": 8,
   "metadata": {
    "id": "CKdthgpSbrzH"
   },
   "outputs": [],
   "source": [
    "df=pd.DataFrame(json_file).T"
   ]
  },
  {
   "cell_type": "code",
   "execution_count": 9,
   "metadata": {
    "colab": {
     "base_uri": "https://localhost:8080/",
     "height": 357
    },
    "id": "gO00i3-tbv5I",
    "outputId": "16e18ef3-c1f7-48af-a4ad-9f0302b4cb1d"
   },
   "outputs": [
    {
     "data": {
      "text/html": [
       "<div>\n",
       "<style scoped>\n",
       "    .dataframe tbody tr th:only-of-type {\n",
       "        vertical-align: middle;\n",
       "    }\n",
       "\n",
       "    .dataframe tbody tr th {\n",
       "        vertical-align: top;\n",
       "    }\n",
       "\n",
       "    .dataframe thead th {\n",
       "        text-align: right;\n",
       "    }\n",
       "</style>\n",
       "<table border=\"1\" class=\"dataframe\">\n",
       "  <thead>\n",
       "    <tr style=\"text-align: right;\">\n",
       "      <th></th>\n",
       "      <th>tweet_author</th>\n",
       "      <th>tweet_text</th>\n",
       "    </tr>\n",
       "  </thead>\n",
       "  <tbody>\n",
       "    <tr>\n",
       "      <th>1374140386071961602</th>\n",
       "      <td>Hematopoiesis News</td>\n",
       "      <td>⚕️ Scientists conducted a Phase II study of ac...</td>\n",
       "    </tr>\n",
       "    <tr>\n",
       "      <th>1374032432173842437</th>\n",
       "      <td>Michael Wang, MD</td>\n",
       "      <td>This phase 2 Acalabrutinib-Venetoclax (AV) tri...</td>\n",
       "    </tr>\n",
       "    <tr>\n",
       "      <th>1373902876553048065</th>\n",
       "      <td>1stOncology</td>\n",
       "      <td>#NICE backs #AstraZenecas #Calquence for #CLL ...</td>\n",
       "    </tr>\n",
       "    <tr>\n",
       "      <th>1373656782367813635</th>\n",
       "      <td>Toby Eyre</td>\n",
       "      <td>#acalabrutinib is a valuable option in pts int...</td>\n",
       "    </tr>\n",
       "    <tr>\n",
       "      <th>1372941634334232586</th>\n",
       "      <td>Lymphoma Hub</td>\n",
       "      <td>NICE has recommended the use of acalabrutinib ...</td>\n",
       "    </tr>\n",
       "    <tr>\n",
       "      <th>1372927482278539265</th>\n",
       "      <td>David Ledger</td>\n",
       "      <td>NICE backs AstraZeneca’s Calquence for CLL htt...</td>\n",
       "    </tr>\n",
       "    <tr>\n",
       "      <th>1372911723305394179</th>\n",
       "      <td>N Wales Cancer Forum</td>\n",
       "      <td>This is England for now - these decisions usua...</td>\n",
       "    </tr>\n",
       "    <tr>\n",
       "      <th>1372888121159868423</th>\n",
       "      <td>European Pharmaceutical Review</td>\n",
       "      <td>AstraZeneca’s Calquence (acalabrutinib), a che...</td>\n",
       "    </tr>\n",
       "    <tr>\n",
       "      <th>1372866915081797632</th>\n",
       "      <td>Graham Collins</td>\n",
       "      <td>Superstar @tobyeyre82 responding to the excell...</td>\n",
       "    </tr>\n",
       "    <tr>\n",
       "      <th>1372825553837944834</th>\n",
       "      <td>CLL Ireland</td>\n",
       "      <td>CLL patients all know the drug Ibrutinib and y...</td>\n",
       "    </tr>\n",
       "  </tbody>\n",
       "</table>\n",
       "</div>"
      ],
      "text/plain": [
       "                                       tweet_author  \\\n",
       "1374140386071961602              Hematopoiesis News   \n",
       "1374032432173842437                Michael Wang, MD   \n",
       "1373902876553048065                     1stOncology   \n",
       "1373656782367813635                       Toby Eyre   \n",
       "1372941634334232586                    Lymphoma Hub   \n",
       "1372927482278539265                    David Ledger   \n",
       "1372911723305394179            N Wales Cancer Forum   \n",
       "1372888121159868423  European Pharmaceutical Review   \n",
       "1372866915081797632                  Graham Collins   \n",
       "1372825553837944834                     CLL Ireland   \n",
       "\n",
       "                                                            tweet_text  \n",
       "1374140386071961602  ⚕️ Scientists conducted a Phase II study of ac...  \n",
       "1374032432173842437  This phase 2 Acalabrutinib-Venetoclax (AV) tri...  \n",
       "1373902876553048065  #NICE backs #AstraZenecas #Calquence for #CLL ...  \n",
       "1373656782367813635  #acalabrutinib is a valuable option in pts int...  \n",
       "1372941634334232586  NICE has recommended the use of acalabrutinib ...  \n",
       "1372927482278539265  NICE backs AstraZeneca’s Calquence for CLL htt...  \n",
       "1372911723305394179  This is England for now - these decisions usua...  \n",
       "1372888121159868423  AstraZeneca’s Calquence (acalabrutinib), a che...  \n",
       "1372866915081797632  Superstar @tobyeyre82 responding to the excell...  \n",
       "1372825553837944834  CLL patients all know the drug Ibrutinib and y...  "
      ]
     },
     "execution_count": 9,
     "metadata": {},
     "output_type": "execute_result"
    }
   ],
   "source": [
    "df.head(10)"
   ]
  },
  {
   "cell_type": "markdown",
   "metadata": {
    "id": "5OYKCsgWg41W"
   },
   "source": [
    "**check null values**\n",
    "\n",
    "**Total no of unique writer**"
   ]
  },
  {
   "cell_type": "code",
   "execution_count": 10,
   "metadata": {
    "colab": {
     "base_uri": "https://localhost:8080/"
    },
    "id": "UlSqIIhgNDUI",
    "outputId": "07e1a30d-9066-4d8f-8de2-3c05fd62c579"
   },
   "outputs": [
    {
     "name": "stdout",
     "output_type": "stream",
     "text": [
      "total no of null valus in the data:\n",
      " tweet_author    0\n",
      "tweet_text      0\n",
      "dtype: int64\n",
      "total no tweet author: 9292\n"
     ]
    }
   ],
   "source": [
    "print('total no of null valus in the data:\\n',df.isnull().sum())\n",
    "print('total no tweet author:',df.tweet_author.nunique())"
   ]
  },
  {
   "cell_type": "markdown",
   "metadata": {
    "id": "Ft4Cf7qFhI0H"
   },
   "source": [
    "**Clean the data and convert them into Machine Readable Code**"
   ]
  },
  {
   "cell_type": "code",
   "execution_count": 12,
   "metadata": {
    "id": "_8bF_BjiRX-u"
   },
   "outputs": [],
   "source": [
    "stopword = stopwords.words('english')\n",
    "def clean_data(data):\n",
    "    data = data.lower()\n",
    "    data = re.sub(r'[^(a-zA-Z)\\s]','', data)\n",
    "     #     remove urls\n",
    "    data = re.sub(r'http\\S+', \" \", data)\n",
    "    #     remove mentions\n",
    "    data = re.sub(r'@\\w+',' ',data)\n",
    "    #     remove hastags\n",
    "    data = re.sub(r'#\\w+', ' ',data)\n",
    "    #     remove digits\n",
    "    data = re.sub(r'\\d+()', ' ', data)\n",
    "    #     remove html tags and umber\n",
    "    data = re.sub('r<.*?>',' ', data)\n",
    "    #     remove stop words \n",
    "    data = data.split()\n",
    "    data = \" \".join([word for word in data if not word in stopword])\n",
    "    return data\n",
    "df['tweet_text']=df['tweet_text'].apply(lambda x:clean_data(x))\n",
    "def remove_punct(text):\n",
    "    text  = \"\".join([char for char in text if char not in string.punctuation])\n",
    "    text = re.sub('[0-9]+', '', text)\n",
    "    return text\n",
    "\n",
    "df['tweet_text']= df['tweet_text'].apply(lambda x: remove_punct(x))\n",
    "#Tokenization of the text data\n",
    "def tokenization(text):\n",
    "    text = re.split('\\W+', text)\n",
    "    return text\n",
    "df['tweet_text'] = df['tweet_text'].apply(lambda x: tokenization(x.lower()))"
   ]
  },
  {
   "cell_type": "markdown",
   "metadata": {
    "id": "NMHqh9YF7761"
   },
   "source": [
    "\n",
    "\n",
    "**Get the most frequent entities from the tweets. and we convert them into csv**"
   ]
  },
  {
   "cell_type": "code",
   "execution_count": 13,
   "metadata": {
    "id": "0hYU7qsc8KsX"
   },
   "outputs": [],
   "source": [
    "df1=df['tweet_text']"
   ]
  },
  {
   "cell_type": "markdown",
   "metadata": {
    "id": "RZpgnEFmhdFv"
   },
   "source": [
    "**Steaming anf Lemitization of the code**"
   ]
  },
  {
   "cell_type": "code",
   "execution_count": 14,
   "metadata": {
    "id": "WNYcptKl-SpK"
   },
   "outputs": [],
   "source": [
    "ps = nltk.PorterStemmer()\n",
    "def stemming(text):\n",
    "    text = [ps.stem(word) for word in text]\n",
    "    return text\n",
    "df1 = df1.apply(lambda x: stemming(x))"
   ]
  },
  {
   "cell_type": "code",
   "execution_count": 15,
   "metadata": {
    "id": "q18TzaGy-SZh"
   },
   "outputs": [],
   "source": [
    "wn = nltk.WordNetLemmatizer()\n",
    "def lemmatizer(text):\n",
    "    text = [wn.lemmatize(word) for word in text]\n",
    "    return text\n",
    "df1= df1.apply(lambda x: lemmatizer(x))"
   ]
  },
  {
   "cell_type": "markdown",
   "metadata": {
    "id": "EpS94QhCFQ5Z"
   },
   "source": [
    "**Stanford NLP NER**"
   ]
  },
  {
   "cell_type": "code",
   "execution_count": 19,
   "metadata": {
    "id": "fvxGDcciTH6f"
   },
   "outputs": [
    {
     "name": "stderr",
     "output_type": "stream",
     "text": [
      "[nltk_data] Downloading package punkt to\n",
      "[nltk_data]     C:\\Users\\lohit\\AppData\\Roaming\\nltk_data...\n",
      "[nltk_data]   Package punkt is already up-to-date!\n"
     ]
    }
   ],
   "source": [
    "from nltk.tag.stanford import StanfordNERTagger\n",
    "\n",
    "nltk.download('punkt')\n",
    "\n",
    "st = StanfordNERTagger('stanford-ner-2018-10-16/classifiers/english.all.3class.distsim.crf.ser.gz',\n",
    "                       'stanford-ner-2018-10-16/stanford-ner.jar',\n",
    "                       encoding='utf-8')"
   ]
  },
  {
   "cell_type": "code",
   "execution_count": 20,
   "metadata": {
    "id": "dvXyHQZvz4RH"
   },
   "outputs": [],
   "source": [
    "val = [item if isinstance(df1, str) else \" \".join(item) for item in df1 ]\n",
    "seen = set()\n",
    "val = [x for x in val if x not in seen and not seen.add(x)]"
   ]
  },
  {
   "cell_type": "code",
   "execution_count": 21,
   "metadata": {
    "id": "O7GCD8Oaynvm"
   },
   "outputs": [],
   "source": [
    "classified_text = st.tag(val)"
   ]
  },
  {
   "cell_type": "code",
   "execution_count": 24,
   "metadata": {
    "colab": {
     "base_uri": "https://localhost:8080/",
     "height": 357
    },
    "id": "j5GcidKrxF-f",
    "outputId": "810ca926-124c-42c4-df9b-22a406b657d6"
   },
   "outputs": [
    {
     "data": {
      "text/html": [
       "<div>\n",
       "<style scoped>\n",
       "    .dataframe tbody tr th:only-of-type {\n",
       "        vertical-align: middle;\n",
       "    }\n",
       "\n",
       "    .dataframe tbody tr th {\n",
       "        vertical-align: top;\n",
       "    }\n",
       "\n",
       "    .dataframe thead th {\n",
       "        text-align: right;\n",
       "    }\n",
       "</style>\n",
       "<table border=\"1\" class=\"dataframe\">\n",
       "  <thead>\n",
       "    <tr style=\"text-align: right;\">\n",
       "      <th></th>\n",
       "      <th>Entity Name</th>\n",
       "      <th>Frequency</th>\n",
       "    </tr>\n",
       "  </thead>\n",
       "  <tbody>\n",
       "    <tr>\n",
       "      <th>0</th>\n",
       "      <td>acalabrutinib</td>\n",
       "      <td>1306</td>\n",
       "    </tr>\n",
       "    <tr>\n",
       "      <th>1</th>\n",
       "      <td>calquenc</td>\n",
       "      <td>893</td>\n",
       "    </tr>\n",
       "    <tr>\n",
       "      <th>2</th>\n",
       "      <td>patient</td>\n",
       "      <td>790</td>\n",
       "    </tr>\n",
       "    <tr>\n",
       "      <th>3</th>\n",
       "      <td>covid</td>\n",
       "      <td>694</td>\n",
       "    </tr>\n",
       "    <tr>\n",
       "      <th>4</th>\n",
       "      <td>astrazeneca</td>\n",
       "      <td>598</td>\n",
       "    </tr>\n",
       "    <tr>\n",
       "      <th>5</th>\n",
       "      <td>cll</td>\n",
       "      <td>562</td>\n",
       "    </tr>\n",
       "    <tr>\n",
       "      <th>6</th>\n",
       "      <td>trial</td>\n",
       "      <td>425</td>\n",
       "    </tr>\n",
       "    <tr>\n",
       "      <th>7</th>\n",
       "      <td>lymphocyt</td>\n",
       "      <td>388</td>\n",
       "    </tr>\n",
       "    <tr>\n",
       "      <th>8</th>\n",
       "      <td>chronic</td>\n",
       "      <td>351</td>\n",
       "    </tr>\n",
       "    <tr>\n",
       "      <th>9</th>\n",
       "      <td>leukemia</td>\n",
       "      <td>342</td>\n",
       "    </tr>\n",
       "  </tbody>\n",
       "</table>\n",
       "</div>"
      ],
      "text/plain": [
       "     Entity Name  Frequency\n",
       "0  acalabrutinib       1306\n",
       "1       calquenc        893\n",
       "2        patient        790\n",
       "3          covid        694\n",
       "4    astrazeneca        598\n",
       "5            cll        562\n",
       "6          trial        425\n",
       "7      lymphocyt        388\n",
       "8        chronic        351\n",
       "9       leukemia        342"
      ]
     },
     "execution_count": 24,
     "metadata": {},
     "output_type": "execute_result"
    }
   ],
   "source": [
    "entity= pd.DataFrame(classified_text,columns=['Entity Name','Entity Type'])\n",
    "\n",
    "#Here We Remove Entities_type column from data we does not requierd this but the help to recgonized the type of entity\n",
    "\n",
    "all_entities = (entity.groupby(by=['Entity Name'])\n",
    "                          .size()\n",
    "                          .sort_values(ascending=False)\n",
    "                          .reset_index().rename(columns={0 : 'Frequency'}))\n",
    "all_entities.head(10)"
   ]
  },
  {
   "cell_type": "code",
   "execution_count": 25,
   "metadata": {
    "id": "zyXBXnhXDzgR"
   },
   "outputs": [],
   "source": [
    "all_entities.to_csv('entity_csv')"
   ]
  },
  {
   "cell_type": "markdown",
   "metadata": {
    "id": "vF2pCS9fOG_u"
   },
   "source": [
    "**Find out the sentiment/polarity of each author towards each of the entities**"
   ]
  },
  {
   "cell_type": "code",
   "execution_count": 31,
   "metadata": {
    "id": "0Jp7kbMOa71l"
   },
   "outputs": [],
   "source": [
    "df['tweet_text'] = df['tweet_text'].astype('str')\n",
    "def get_polarity(text):\n",
    "    return TextBlob(text).sentiment.polarity\n",
    "df['Polarity'] = df['tweet_text'].apply(get_polarity)"
   ]
  },
  {
   "cell_type": "code",
   "execution_count": 32,
   "metadata": {
    "id": "yT88Ph7IbiKD"
   },
   "outputs": [],
   "source": [
    "df.to_csv('objective2')"
   ]
  },
  {
   "cell_type": "code",
   "execution_count": 28,
   "metadata": {
    "colab": {
     "base_uri": "https://localhost:8080/",
     "height": 357
    },
    "id": "52Z_HOhUcBjK",
    "outputId": "a2aa3cff-d1b8-4755-ce92-afc4ca35de25"
   },
   "outputs": [
    {
     "data": {
      "text/html": [
       "<div>\n",
       "<style scoped>\n",
       "    .dataframe tbody tr th:only-of-type {\n",
       "        vertical-align: middle;\n",
       "    }\n",
       "\n",
       "    .dataframe tbody tr th {\n",
       "        vertical-align: top;\n",
       "    }\n",
       "\n",
       "    .dataframe thead th {\n",
       "        text-align: right;\n",
       "    }\n",
       "</style>\n",
       "<table border=\"1\" class=\"dataframe\">\n",
       "  <thead>\n",
       "    <tr style=\"text-align: right;\">\n",
       "      <th></th>\n",
       "      <th>tweet_author</th>\n",
       "      <th>tweet_text</th>\n",
       "    </tr>\n",
       "  </thead>\n",
       "  <tbody>\n",
       "    <tr>\n",
       "      <th>1374140386071961602</th>\n",
       "      <td>Hematopoiesis News</td>\n",
       "      <td>['scientists', 'conducted', 'phase', 'ii', 'st...</td>\n",
       "    </tr>\n",
       "    <tr>\n",
       "      <th>1374032432173842437</th>\n",
       "      <td>Michael Wang, MD</td>\n",
       "      <td>['phase', 'acalabrutinibvenetoclax', 'av', 'tr...</td>\n",
       "    </tr>\n",
       "    <tr>\n",
       "      <th>1373902876553048065</th>\n",
       "      <td>1stOncology</td>\n",
       "      <td>['nice', 'backs', 'astrazenecas', 'calquence',...</td>\n",
       "    </tr>\n",
       "    <tr>\n",
       "      <th>1373656782367813635</th>\n",
       "      <td>Toby Eyre</td>\n",
       "      <td>['acalabrutinib', 'valuable', 'option', 'pts',...</td>\n",
       "    </tr>\n",
       "    <tr>\n",
       "      <th>1372941634334232586</th>\n",
       "      <td>Lymphoma Hub</td>\n",
       "      <td>['nice', 'recommended', 'use', 'acalabrutinib'...</td>\n",
       "    </tr>\n",
       "    <tr>\n",
       "      <th>1372927482278539265</th>\n",
       "      <td>David Ledger</td>\n",
       "      <td>['nice', 'backs', 'astrazenecas', 'calquence',...</td>\n",
       "    </tr>\n",
       "    <tr>\n",
       "      <th>1372911723305394179</th>\n",
       "      <td>N Wales Cancer Forum</td>\n",
       "      <td>['england', 'decisions', 'usually', 'come', 'w...</td>\n",
       "    </tr>\n",
       "    <tr>\n",
       "      <th>1372888121159868423</th>\n",
       "      <td>European Pharmaceutical Review</td>\n",
       "      <td>['astrazenecas', 'calquence', 'acalabrutinib',...</td>\n",
       "    </tr>\n",
       "    <tr>\n",
       "      <th>1372866915081797632</th>\n",
       "      <td>Graham Collins</td>\n",
       "      <td>['superstar', 'tobyeyre', 'responding', 'excel...</td>\n",
       "    </tr>\n",
       "    <tr>\n",
       "      <th>1372825553837944834</th>\n",
       "      <td>CLL Ireland</td>\n",
       "      <td>['cll', 'patients', 'know', 'drug', 'ibrutinib...</td>\n",
       "    </tr>\n",
       "  </tbody>\n",
       "</table>\n",
       "</div>"
      ],
      "text/plain": [
       "                                       tweet_author  \\\n",
       "1374140386071961602              Hematopoiesis News   \n",
       "1374032432173842437                Michael Wang, MD   \n",
       "1373902876553048065                     1stOncology   \n",
       "1373656782367813635                       Toby Eyre   \n",
       "1372941634334232586                    Lymphoma Hub   \n",
       "1372927482278539265                    David Ledger   \n",
       "1372911723305394179            N Wales Cancer Forum   \n",
       "1372888121159868423  European Pharmaceutical Review   \n",
       "1372866915081797632                  Graham Collins   \n",
       "1372825553837944834                     CLL Ireland   \n",
       "\n",
       "                                                            tweet_text  \n",
       "1374140386071961602  ['scientists', 'conducted', 'phase', 'ii', 'st...  \n",
       "1374032432173842437  ['phase', 'acalabrutinibvenetoclax', 'av', 'tr...  \n",
       "1373902876553048065  ['nice', 'backs', 'astrazenecas', 'calquence',...  \n",
       "1373656782367813635  ['acalabrutinib', 'valuable', 'option', 'pts',...  \n",
       "1372941634334232586  ['nice', 'recommended', 'use', 'acalabrutinib'...  \n",
       "1372927482278539265  ['nice', 'backs', 'astrazenecas', 'calquence',...  \n",
       "1372911723305394179  ['england', 'decisions', 'usually', 'come', 'w...  \n",
       "1372888121159868423  ['astrazenecas', 'calquence', 'acalabrutinib',...  \n",
       "1372866915081797632  ['superstar', 'tobyeyre', 'responding', 'excel...  \n",
       "1372825553837944834  ['cll', 'patients', 'know', 'drug', 'ibrutinib...  "
      ]
     },
     "execution_count": 28,
     "metadata": {},
     "output_type": "execute_result"
    }
   ],
   "source": [
    "df.head(10)"
   ]
  },
  {
   "cell_type": "markdown",
   "metadata": {
    "id": "ynVRWh5_gOeS"
   },
   "source": [
    "**Thank you**"
   ]
  }
 ],
 "metadata": {
  "colab": {
   "collapsed_sections": [],
   "name": "NLP_Assignment.ipynb",
   "provenance": []
  },
  "kernelspec": {
   "display_name": "Python 3",
   "language": "python",
   "name": "python3"
  },
  "language_info": {
   "codemirror_mode": {
    "name": "ipython",
    "version": 3
   },
   "file_extension": ".py",
   "mimetype": "text/x-python",
   "name": "python",
   "nbconvert_exporter": "python",
   "pygments_lexer": "ipython3",
   "version": "3.8.8"
  }
 },
 "nbformat": 4,
 "nbformat_minor": 1
}
